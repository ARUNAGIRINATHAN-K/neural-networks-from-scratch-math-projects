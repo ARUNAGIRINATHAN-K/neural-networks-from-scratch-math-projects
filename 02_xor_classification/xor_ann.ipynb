{
 "cells": [
  {
   "cell_type": "code",
   "execution_count": 5,
   "id": "8fab1c6c",
   "metadata": {},
   "outputs": [],
   "source": [
    "import numpy as np\n",
    "import matplotlib.pyplot as plt"
   ]
  },
  {
   "cell_type": "code",
   "execution_count": 1,
   "id": "e00fc8ba",
   "metadata": {},
   "outputs": [],
   "source": [
    "def sigmoid(x):\n",
    "    return 1 / (1 + np.exp(-x))"
   ]
  },
  {
   "cell_type": "code",
   "execution_count": 2,
   "id": "a57deffd",
   "metadata": {},
   "outputs": [],
   "source": [
    "def sigmoid_derivative(x):\n",
    "    s = sigmoid(x)\n",
    "    return s * (1 - s)"
   ]
  },
  {
   "cell_type": "code",
   "execution_count": 6,
   "id": "6b4a327a",
   "metadata": {},
   "outputs": [],
   "source": [
    "X = np.array([[0, 0],\n",
    "              [0, 1],\n",
    "              [1, 0],\n",
    "              [1, 1]])\n"
   ]
  },
  {
   "cell_type": "code",
   "execution_count": 7,
   "id": "f5e76302",
   "metadata": {},
   "outputs": [],
   "source": [
    "y = np.array([[0], [1], [1], [0]])"
   ]
  },
  {
   "cell_type": "code",
   "execution_count": 8,
   "id": "f2630e60",
   "metadata": {},
   "outputs": [],
   "source": [
    "np.random.seed(0)"
   ]
  },
  {
   "cell_type": "code",
   "execution_count": 9,
   "id": "679bce10",
   "metadata": {},
   "outputs": [],
   "source": [
    "W1 = np.random.randn(2, 2)"
   ]
  },
  {
   "cell_type": "code",
   "execution_count": 10,
   "id": "dcffd4ba",
   "metadata": {},
   "outputs": [],
   "source": [
    "b1 = np.zeros((1, 2))"
   ]
  },
  {
   "cell_type": "code",
   "execution_count": 11,
   "id": "ffa3de2a",
   "metadata": {},
   "outputs": [],
   "source": [
    "W2 = np.random.randn(2, 1)"
   ]
  },
  {
   "cell_type": "code",
   "execution_count": 12,
   "id": "77cc0867",
   "metadata": {},
   "outputs": [],
   "source": [
    "b2 = np.zeros((1, 1))"
   ]
  },
  {
   "cell_type": "code",
   "execution_count": 13,
   "id": "6925ff87",
   "metadata": {},
   "outputs": [],
   "source": [
    "epochs = 10000\n",
    "learning_rate = 0.1\n",
    "losses = []"
   ]
  },
  {
   "cell_type": "code",
   "execution_count": 14,
   "id": "553b1719",
   "metadata": {},
   "outputs": [],
   "source": [
    "for i in range(epochs):\n",
    "    # Forward pass\n",
    "    z1 = np.dot(X, W1) + b1\n",
    "    a1 = sigmoid(z1)\n",
    "    z2 = np.dot(a1, W2) + b2\n",
    "    a2 = sigmoid(z2)"
   ]
  },
  {
   "cell_type": "code",
   "execution_count": 15,
   "id": "f049952c",
   "metadata": {},
   "outputs": [],
   "source": [
    "loss = np.mean((y - a2) ** 2)\n",
    "losses.append(loss)    "
   ]
  },
  {
   "cell_type": "code",
   "execution_count": 16,
   "id": "ee67fff1",
   "metadata": {},
   "outputs": [],
   "source": [
    "d_loss = 2 * (a2 - y)"
   ]
  },
  {
   "cell_type": "code",
   "execution_count": 17,
   "id": "5779fffd",
   "metadata": {},
   "outputs": [],
   "source": [
    "d_z2 = d_loss * sigmoid_derivative(z2)"
   ]
  },
  {
   "cell_type": "code",
   "execution_count": 18,
   "id": "e5030b18",
   "metadata": {},
   "outputs": [],
   "source": [
    "d_W2 = np.dot(a1.T, d_z2)"
   ]
  },
  {
   "cell_type": "code",
   "execution_count": 19,
   "id": "522ee292",
   "metadata": {},
   "outputs": [],
   "source": [
    "d_b2 = np.sum(d_z2, axis=0, keepdims=True)"
   ]
  },
  {
   "cell_type": "code",
   "execution_count": 20,
   "id": "025fb9c2",
   "metadata": {},
   "outputs": [],
   "source": [
    "d_a1 = np.dot(d_z2, W2.T)"
   ]
  },
  {
   "cell_type": "code",
   "execution_count": 21,
   "id": "ee604621",
   "metadata": {},
   "outputs": [],
   "source": [
    "d_z1 = d_a1 * sigmoid_derivative(z1)"
   ]
  },
  {
   "cell_type": "code",
   "execution_count": 22,
   "id": "29f0730f",
   "metadata": {},
   "outputs": [],
   "source": [
    "d_W1 = np.dot(X.T, d_z1)"
   ]
  },
  {
   "cell_type": "code",
   "execution_count": 23,
   "id": "97b5417c",
   "metadata": {},
   "outputs": [],
   "source": [
    "d_b1 = np.sum(d_z1, axis=0, keepdims=True)"
   ]
  },
  {
   "cell_type": "code",
   "execution_count": 24,
   "id": "30d3ef54",
   "metadata": {},
   "outputs": [],
   "source": [
    "W2 -= learning_rate * d_W2"
   ]
  },
  {
   "cell_type": "code",
   "execution_count": 25,
   "id": "6f126abb",
   "metadata": {},
   "outputs": [],
   "source": [
    "b2 -= learning_rate * d_b2"
   ]
  },
  {
   "cell_type": "code",
   "execution_count": 26,
   "id": "a5b1f829",
   "metadata": {},
   "outputs": [],
   "source": [
    "W1 -= learning_rate * d_W1"
   ]
  },
  {
   "cell_type": "code",
   "execution_count": 27,
   "id": "79bf423d",
   "metadata": {},
   "outputs": [],
   "source": [
    "b1 -= learning_rate * d_b1"
   ]
  },
  {
   "cell_type": "code",
   "execution_count": 28,
   "id": "c07dfa5d",
   "metadata": {},
   "outputs": [],
   "source": [
    "if i % 2000 == 0:\n",
    "        print(f\"Epoch {i}, Loss: {loss:.4f}\")"
   ]
  },
  {
   "cell_type": "code",
   "execution_count": 29,
   "id": "76e28436",
   "metadata": {},
   "outputs": [
    {
     "name": "stdout",
     "output_type": "stream",
     "text": [
      "\n",
      "Final predictions:\n",
      "[[0.609]\n",
      " [0.616]\n",
      " [0.733]\n",
      " [0.699]]\n"
     ]
    }
   ],
   "source": [
    "print(\"\\nFinal predictions:\")\n",
    "print(np.round(a2, 3))"
   ]
  },
  {
   "cell_type": "code",
   "execution_count": 30,
   "id": "f909c439",
   "metadata": {},
   "outputs": [
    {
     "data": {
      "image/png": "[encoded data removed]",
      "text/plain": [
       "<Figure size 640x480 with 1 Axes>"
      ]
     },
     "metadata": {},
     "output_type": "display_data"
    }
   ],
   "source": [
    "plt.plot(losses)\n",
    "plt.title(\"Loss Curve\")\n",
    "plt.xlabel(\"Epochs\")\n",
    "plt.ylabel(\"Loss\")\n",
    "plt.grid()\n",
    "plt.show()"
   ]
  }
 ],
 "metadata": {
  "kernelspec": {
   "display_name": "Python 3",
   "language": "python",
   "name": "python3"
  },
  "language_info": {
   "codemirror_mode": {
    "name": "ipython",
    "version": 3
   },
   "file_extension": ".py",
   "mimetype": "text/x-python",
   "name": "python",
   "nbconvert_exporter": "python",
   "pygments_lexer": "ipython3",
   "version": "3.12.1"
  }
 },
 "nbformat": 4,
 "nbformat_minor": 5
}
